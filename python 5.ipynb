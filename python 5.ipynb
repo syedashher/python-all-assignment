{
 "cells": [
  {
   "cell_type": "code",
   "execution_count": 13,
   "metadata": {},
   "outputs": [
    {
     "name": "stdout",
     "output_type": "stream",
     "text": [
      "Enter a number to calculate the factiorial : 5\n",
      "120\n"
     ]
    }
   ],
   "source": [
    "def factorial(number):\n",
    "    if number == 0:\n",
    "        return 1\n",
    "    else:\n",
    "        return number * factorial(number-1)\n",
    "number=int(input(\"Enter a number to calculate the factiorial : \"))\n",
    "print(factorial(number))"
   ]
  },
  {
   "cell_type": "code",
   "execution_count": 14,
   "metadata": {},
   "outputs": [
    {
     "name": "stdout",
     "output_type": "stream",
     "text": [
      "Enter a string value with lower and uppercase letters :Asher Manzoor\n",
      "Original String :  Asher Manzoor\n",
      "No. of Upper case characters :  2\n",
      "No. of Lower case Characters :  10\n",
      "None\n"
     ]
    }
   ],
   "source": [
    "def string_test(s):\n",
    "    value={\"UPPER_CASE\":0, \"LOWER_CASE\":0}\n",
    "     \n",
    "    for c in s:\n",
    "        if c.isupper():\n",
    "           value[\"UPPER_CASE\"]+=1\n",
    "        elif c.islower():\n",
    "           value[\"LOWER_CASE\"]+=1\n",
    "        else:\n",
    "           pass\n",
    "    print (\"Original String : \", s)\n",
    "    print (\"No. of Upper case characters : \", value[\"UPPER_CASE\"])\n",
    "    print (\"No. of Lower case Characters : \", value[\"LOWER_CASE\"])\n",
    "\n",
    "print(string_test(s = input('Enter a string value with lower and uppercase letters :')))"
   ]
  },
  {
   "cell_type": "code",
   "execution_count": 6,
   "metadata": {},
   "outputs": [
    {
     "name": "stdout",
     "output_type": "stream",
     "text": [
      "[2, 4, 6, 8]\n"
     ]
    }
   ],
   "source": [
    "def even_num(l):\n",
    "    even = []\n",
    "    for n in l:\n",
    "        if n % 2 == 0:\n",
    "            even.append(n)\n",
    "    return even\n",
    "print(even_num([1, 2, 3, 4, 5, 6, 7, 8, 9]))"
   ]
  },
  {
   "cell_type": "code",
   "execution_count": 5,
   "metadata": {},
   "outputs": [
    {
     "name": "stdout",
     "output_type": "stream",
     "text": [
      "True\n"
     ]
    }
   ],
   "source": [
    "def is_palindrome(string):\n",
    "    left = 0\n",
    "    right = len(string) - 1\n",
    "    while right >= left:\n",
    "        if not string[left] == string[right]:\n",
    "            return False\n",
    "        else:\n",
    "            left += 1\n",
    "            right -= 1\n",
    "            return True\n",
    "print(is_palindrome('madam'))"
   ]
  },
  {
   "cell_type": "code",
   "execution_count": 7,
   "metadata": {},
   "outputs": [
    {
     "name": "stdout",
     "output_type": "stream",
     "text": [
      "Enter a number: 279\n",
      "279 is not a prime number\n",
      "3 times 93 is 279\n"
     ]
    }
   ],
   "source": [
    "num = int(input(\"Enter a number: \"))  \n",
    "  \n",
    "if num > 1:  \n",
    "   for i in range(2,num):  \n",
    "       if (num % i) == 0:  \n",
    "           print(num,\"is not a prime number\")  \n",
    "           print(i,\"times\",num//i,\"is\",num)  \n",
    "           break  \n",
    "   else:  \n",
    "       print(num,\"is a prime number\")  \n",
    "         \n",
    "else:  \n",
    "   print(num,\"is not a prime number\")"
   ]
  },
  {
   "cell_type": "code",
   "execution_count": 8,
   "metadata": {},
   "outputs": [
    {
     "name": "stdout",
     "output_type": "stream",
     "text": [
      " You Slected chees\n",
      " You Slected dates\n",
      " You Slected rice\n"
     ]
    }
   ],
   "source": [
    "def shoping(*items):\n",
    "    for item in items:\n",
    "        print(\" You Slected\",item)\n",
    "        \n",
    "shoping('chees','dates','rice')"
   ]
  },
  {
   "cell_type": "code",
   "execution_count": null,
   "metadata": {},
   "outputs": [],
   "source": []
  }
 ],
 "metadata": {
  "kernelspec": {
   "display_name": "Python 3",
   "language": "python",
   "name": "python3"
  },
  "language_info": {
   "codemirror_mode": {
    "name": "ipython",
    "version": 3
   },
   "file_extension": ".py",
   "mimetype": "text/x-python",
   "name": "python",
   "nbconvert_exporter": "python",
   "pygments_lexer": "ipython3",
   "version": "3.7.4"
  }
 },
 "nbformat": 4,
 "nbformat_minor": 2
}
