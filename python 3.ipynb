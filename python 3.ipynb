{
 "cells": [
  {
   "cell_type": "code",
   "execution_count": null,
   "metadata": {},
   "outputs": [],
   "source": [
    "num1 = int(input(\"Enter Your First Number\"))\n",
    "opreator = input(\"Enter Your Opreator\")\n",
    "num2 = int(input(\"Enter Your First Number\"))\n",
    "\n",
    "if opreator == '+':\n",
    "    result = num1 + num2\n",
    "    print(\"Addition of \",num1,\" & \",num2,\" is \", result)\n",
    "elif opreator == '-':\n",
    "    result = num1 - num2\n",
    "    print(\"Subtraction of \",num1,\" & \",num2,\" is \", result)\n",
    "elif opreator == '*':\n",
    "    result = num1 * num2\n",
    "    print(\"Multiplication of \",num1,\" & \",num2,\" is \", result)\n",
    "elif opreator == '/':\n",
    "    result = num1 / num2\n",
    "    print(\"Division of \",num1,\" & \",num2,\" is \", result)\n",
    "elif opreator == '**':\n",
    "    result = num1 ** num2\n",
    "    print(\"Power of \",num1, \" is \", result)"
   ]
  },
  {
   "cell_type": "code",
   "execution_count": null,
   "metadata": {},
   "outputs": [],
   "source": [
    "for i in arr:\n",
    "    if type(i) == int:\n",
    "        print(i,\"is a numeric Value in List\")\n",
    "    elif type(i) == float:\n",
    "        print(i,\"is a numeric Value in List\")"
   ]
  },
  {
   "cell_type": "code",
   "execution_count": null,
   "metadata": {},
   "outputs": [],
   "source": [
    "dic = {}\n",
    "keyinput = input(\"Enter Key\")\n",
    "valueinput = input(\"Enter Value\")\n",
    "dic.update({keyinput:valueinput})\n",
    "\n",
    "print(dic)"
   ]
  },
  {
   "cell_type": "code",
   "execution_count": null,
   "metadata": {},
   "outputs": [],
   "source": [
    "dic = {\n",
    "    'num1' : 12,\n",
    "    'num2' : 15,\n",
    "    'string':'Name',\n",
    "    'char':'a',\n",
    "    'num3' : 17,\n",
    "    'num4':21,\n",
    "}\n",
    "\n",
    "sum = 0\n",
    "\n",
    "for i in dic.values():\n",
    "    if type(i) == int:\n",
    "        sum +=i\n",
    "\n",
    "print(\"Sum of all numeric items a dictionary is\" , sum)"
   ]
  },
  {
   "cell_type": "code",
   "execution_count": null,
   "metadata": {},
   "outputs": [],
   "source": [
    "arr = [1,2,3,2,1,5,6,5,5,5]\n",
    "list_range = len(arr)\n",
    "repeated = []\n",
    "for i in range (list_range):\n",
    "    a = i + 1\n",
    "    for b in range(a, list_range):\n",
    "        if arr[i] == arr[b] and arr[i] not in repeated:\n",
    "            repeated.append(arr[i])\n",
    "print(\"Repeted item in list are\" , repeated)"
   ]
  },
  {
   "cell_type": "code",
   "execution_count": null,
   "metadata": {},
   "outputs": [],
   "source": [
    "dic = {\n",
    "    'num1' : 12,\n",
    "    'num2' : 15,\n",
    "    'string':'Name',\n",
    "    'char':'a',\n",
    "    'num3' : 17,\n",
    "    'num4':21,\n",
    "}\n",
    "check_key = input(\"Enter Key Name Check if exist or not\")\n",
    "flag = False\n",
    "for i in dic.keys():\n",
    "    if i == check_key:\n",
    "        flag = True\n",
    "        break\n",
    "\n",
    "if flag:\n",
    "    print(\"Given Key exist\")\n",
    "else:\n",
    "    print(\"Given Key dose not exist\")"
   ]
  },
  {
   "cell_type": "code",
   "execution_count": null,
   "metadata": {},
   "outputs": [],
   "source": []
  }
 ],
 "metadata": {
  "kernelspec": {
   "display_name": "Python 3",
   "language": "python",
   "name": "python3"
  },
  "language_info": {
   "codemirror_mode": {
    "name": "ipython",
    "version": 3
   },
   "file_extension": ".py",
   "mimetype": "text/x-python",
   "name": "python",
   "nbconvert_exporter": "python",
   "pygments_lexer": "ipython3",
   "version": "3.7.4"
  }
 },
 "nbformat": 4,
 "nbformat_minor": 2
}
